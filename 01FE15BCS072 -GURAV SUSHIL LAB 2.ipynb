{
 "cells": [
  {
   "cell_type": "code",
   "execution_count": 102,
   "metadata": {
    "scrolled": true
   },
   "outputs": [
    {
     "name": "stdout",
     "output_type": "stream",
     "text": [
      "20.33\n"
     ]
    }
   ],
   "source": [
    "import tensorflow as tf\n",
    "\n",
    "##mean of x\n",
    "with tf.name_scope(\"var\"):\n",
    "    with tf.name_scope(\"mean_of_x\"):\n",
    "        a=tf.constant([11.0,22.0,26.2,22.12],shape=[1,4],name='a')\n",
    "        b=tf.constant([3.0,2.0,9.0,4.0],shape=[1,4],name='b')\n",
    "        x=tf.reduce_mean(a)\n",
    "        ru=tf.Session()\n",
    "print(ru.run(x))\n",
    "\n"
   ]
  },
  {
   "cell_type": "code",
   "execution_count": 101,
   "metadata": {},
   "outputs": [
    {
     "name": "stdout",
     "output_type": "stream",
     "text": [
      "4.5\n"
     ]
    }
   ],
   "source": [
    "#mean of y\n",
    "import tensorflow as tf\n",
    "a=tf.constant([11.0,22.0,26.2,22.12],shape=[1,4],name='a')\n",
    "b=tf.constant([3.0,2.0,9.0,4.0],shape=[1,4],name='b')\n",
    "with tf.name_scope(\"mean_of_y\"):\n",
    "        y=tf.reduce_mean(b)\n",
    "        ru=tf.Session()\n",
    "        print(ru.run(y))\n",
    "        \n"
   ]
  },
  {
   "cell_type": "code",
   "execution_count": 7,
   "metadata": {},
   "outputs": [
    {
     "name": "stdout",
     "output_type": "stream",
     "text": [
      "[[-9.33000183  1.66999817  5.86999893  1.78999901]]\n",
      "127.499\n",
      "35.34\n",
      "0.277179\n",
      "0.277179\n"
     ]
    }
   ],
   "source": [
    "import tensorflow as tf\n",
    "a=tf.constant([11.0,22.0,26.2,22.12],shape=[1,4],name='a')\n",
    "b=tf.constant([3.0,2.0,9.0,4.0],shape=[1,4],name='b')\n",
    "x=tf.reduce_mean(a)\n",
    "d=tf.subtract(a,x)\n",
    "y=tf.reduce_mean(b)\n",
    "ru=tf.Session()\n",
    "print(ru.run(d ))\n",
    "\n",
    "e=tf.square(d)\n",
    "f=tf.reduce_sum(e)\n",
    "ru=tf.Session()\n",
    "print(ru.run(f))\n",
    "\n",
    "\n",
    "with tf.name_scope(\"Covariance\"):\n",
    "    g=tf.subtract(b,y)\n",
    "    ru=tf.Session()\n",
    "    g=tf.multiply(d,g)\n",
    "    h=tf.reduce_sum(g)\n",
    "    print(ru.run(h))\n",
    "    \n",
    "with tf.name_scope(\"value_of_c\"):\n",
    "    j=tf.divide(h,f)\n",
    "    print(ru.run(j))\n",
    "\n",
    "with tf.name_scope(\"value_m\"):\n",
    "    i=tf.multiply(j,b)\n",
    "    k=tf.subtract(y,i)\n",
    "    print(ru.run(j))\n",
    "    \n",
    "with tf.Session() as ru:\n",
    "     writer=tf.summary.FileWriter(\"/tmp/tboard/output_g4\",ru.graph)\n",
    "     writer.close()"
   ]
  },
  {
   "cell_type": "code",
   "execution_count": null,
   "metadata": {
    "collapsed": true
   },
   "outputs": [],
   "source": []
  }
 ],
 "metadata": {
  "kernelspec": {
   "display_name": "Python 3",
   "language": "python",
   "name": "python3"
  },
  "language_info": {
   "codemirror_mode": {
    "name": "ipython",
    "version": 3
   },
   "file_extension": ".py",
   "mimetype": "text/x-python",
   "name": "python",
   "nbconvert_exporter": "python",
   "pygments_lexer": "ipython3",
   "version": "3.6.1"
  }
 },
 "nbformat": 4,
 "nbformat_minor": 2
}
