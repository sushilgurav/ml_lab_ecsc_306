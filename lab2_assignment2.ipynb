{
 "cells": [
  {
   "cell_type": "code",
   "execution_count": 1,
   "metadata": {},
   "outputs": [
    {
     "name": "stdout",
     "output_type": "stream",
     "text": [
      "h0 values: 0.5\n",
      "1.0\n",
      "Cost function: -inf\n",
      "W :  0.184685    b :  0.0256143\n",
      "W :  0.929702    b :  0.131013\n",
      "W :  0.929426    b :  0.133092\n",
      "W :  0.929156    b :  0.135041\n",
      "W :  0.928903    b :  0.136867\n",
      "W :  0.928666    b :  0.138579\n",
      "W :  0.928444    b :  0.140184\n",
      "W :  0.928236    b :  0.141689\n",
      "W :  0.928041    b :  0.1431\n",
      "W :  0.927857    b :  0.144423\n",
      "W :  0.927686    b :  0.145663\n",
      "W :  0.927525    b :  0.146825\n",
      "W :  0.927374    b :  0.147915\n",
      "W :  0.927233    b :  0.148937\n",
      "W :  0.9271    b :  0.149895\n",
      "W :  0.926975    b :  0.150793\n",
      "W :  0.926859    b :  0.151635\n",
      "W :  0.92675    b :  0.152424\n",
      "W :  0.926647    b :  0.153164\n",
      "W :  0.926551    b :  0.153858\n",
      "After  the 1000 epoch values:\n",
      "W :  0.926463\n",
      "b :  0.154496\n"
     ]
    }
   ],
   "source": [
    "import tensorflow as tf\n",
    "import matplotlib.pyplot as plt\n",
    "\n",
    "a1 = tf.constant([1.0,2.0,5.23,4.2,6.56,7.25,11.28],name ='x')\n",
    "b1 = tf.constant([1.26,2.08,3.96,4.23,5.98,7.83,10.52],name='y')\n",
    "\n",
    "#taking epoch value as 1000\n",
    "training_epoch = 1000\n",
    "\n",
    "#taking learning rate as 0.005\n",
    "learning_rate = 0.005\n",
    "\n",
    "stp=50\n",
    "t1=0.0\n",
    "t0=0.0\n",
    "\n",
    "h0=tf.divide(1.0,tf.add(1.0,tf.exp(-tf.add(t0,tf.reduce_sum(tf.multiply(t1,a1))))))\n",
    "model=tf.global_variables_initializer()\n",
    "sess = tf.Session()\n",
    "\n",
    "#value of h0\n",
    "print(\"h0 values:\",sess.run(h0))\n",
    "c=tf.cond(h0<0.5,lambda:0.00,lambda:1.00)\n",
    "print(sess.run(c))\n",
    "\n",
    "\n",
    "#cost function\n",
    "v=tf.multiply(b1,tf.log(c))\n",
    "n=tf.subtract(1.0,b1)\n",
    "m=tf.log(tf.subtract(1.0,c))\n",
    "m1=tf.multiply(n,m)\n",
    "m2=tf.reduce_sum(tf.subtract(-v,m1))\n",
    "print(\"Cost function:\",sess.run(m2))\n",
    "\n",
    "sess = tf.Session()\n",
    "\n",
    "for epoch in range(training_epoch):\n",
    "    \n",
    "                                \n",
    "    s1=tf.reduce_sum(tf.multiply(tf.subtract(tf.add(tf.multiply(a1,t1),t0),b1),a1))\n",
    "    s0=tf.reduce_sum(tf.subtract(tf.add(tf.multiply(a1,t1),t0),b1))\n",
    "    tn1 = tf.subtract(t1,tf.multiply(learning_rate,tf.divide(s1,tf.cast(tf.size(a1),tf.float32))))\n",
    "    tn0=  tf.subtract(t0,tf.multiply(learning_rate,tf.divide(s0,tf.cast(tf.size(a1),tf.float32))))\n",
    "    t1=tn1\n",
    "    t0=tn0\n",
    "    model=tf.global_variables_initializer()\n",
    "    if (epoch%stp==0):\n",
    "        print(\"W : \",sess.run(tn1),\"   b : \",sess.run(tn0))\n",
    "\n",
    "    \n",
    "\n",
    "print(\"After  the 1000 epoch values:\")\n",
    "print(\"W : \",sess.run(tn1))\n",
    "print(\"b : \",sess.run(tn0))"
   ]
  },
  {
   "cell_type": "code",
   "execution_count": null,
   "metadata": {
    "collapsed": true
   },
   "outputs": [],
   "source": []
  }
 ],
 "metadata": {
  "kernelspec": {
   "display_name": "Python 3",
   "language": "python",
   "name": "python3"
  },
  "language_info": {
   "codemirror_mode": {
    "name": "ipython",
    "version": 3
   },
   "file_extension": ".py",
   "mimetype": "text/x-python",
   "name": "python",
   "nbconvert_exporter": "python",
   "pygments_lexer": "ipython3",
   "version": "3.6.1"
  }
 },
 "nbformat": 4,
 "nbformat_minor": 2
}
