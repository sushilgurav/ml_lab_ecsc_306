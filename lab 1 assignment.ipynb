{
 "cells": [
  {
   "cell_type": "code",
   "execution_count": 73,
   "metadata": {},
   "outputs": [],
   "source": [
    "#PART 1\n",
    "import tensorflow as tf\n",
    "\n",
    "x=tf.constant([1.0, 1.2, 3.0, 4.0, 5.0, 6.0])\n",
    "y=tf.constant([1.0, 2.0, 3.0, 4.0, 5.0, 6.0])\n"
   ]
  },
  {
   "cell_type": "code",
   "execution_count": 74,
   "metadata": {},
   "outputs": [
    {
     "name": "stdout",
     "output_type": "stream",
     "text": [
      "3.36667\n",
      "3.5\n",
      "Mean of X\t\t\t\t 3.36667\n",
      "Mean of Y\t\t\t\t 3.5\n",
      "Varience of X\t\t\t\t 20.4333\n",
      "Covariance of x,y\t\t\t 18.7\n",
      "Value of slope\t\t\t\t 0.915171\n",
      "The value of c\t\t\t\t 0.418923\n"
     ]
    }
   ],
   "source": [
    "with tf.name_scope(\"var\"):\n",
    "    with tf.name_scope(\"mean_of_x\"):\n",
    "        avgx=tf.reduce_mean(x)\n",
    "        ru=tf.Session()\n",
    "print(ru.run(avgx))\n",
    "\n",
    "#mean of y\n",
    "import tensorflow as tf\n",
    "\n",
    "with tf.name_scope(\"mean_of_y\"):\n",
    "        avgy=tf.reduce_mean(y)\n",
    "        ru=tf.Session()\n",
    "        print(ru.run(avgy))\n",
    "\n",
    "    \n",
    "#Calculate variance for x\n",
    "var=tf.constant(0.0)\n",
    "with tf.name_scope(\"Variance\"):\n",
    "    with tf.Session() as sess:\n",
    "        for i in range(len(sess.run(x))):\n",
    "            a=tf.subtract(sess.run(x[i]), avgx, name=\"Sub\")\n",
    "            b=tf.square(a, name=\"Squaring\")\n",
    "            var=tf.add(var,b, name=\"Add\")\n",
    "        vari=sess.run(var)\n",
    "\n",
    "#Calculate covariance of x & y\n",
    "cov=tf.constant(0.0)\n",
    "with tf.name_scope(\"Covariance\"):\n",
    "    with tf.Session() as sess:\n",
    "        for i in range(len(sess.run(x))):\n",
    "            a=tf.subtract(sess.run(x[i]),avgx, name=\"Subtract1\")\n",
    "            b=tf.subtract(sess.run(y[i]),avgy, name=\"Subtract2\")\n",
    "            c=tf.multiply(a,b,name=\"Multiply\")\n",
    "            cov=tf.add(cov,c, name=\"AddThem\")\n",
    "        covar=sess.run(cov)\n",
    "    \n",
    "\n",
    "#Calculate value of m\n",
    "with tf.name_scope(\"Calculate_m\"):\n",
    "    with tf.Session() as sess:\n",
    "        temp=tf.divide(cov,var)\n",
    "        slope=sess.run(temp)\n",
    "\n",
    "\n",
    "#Calculate value of c \n",
    "with tf.name_scope(\"Calculate_c\"):\n",
    "    c=tf.to_float(slope)\n",
    "    d=tf.to_float(avgx)\n",
    "    e=tf.multiply(c,d)\n",
    "    f=tf.to_float(avgy)\n",
    "    s=tf.subtract(f,e)\n",
    "    with tf.Session() as sess:\n",
    "        const_c=sess.run(s)\n",
    "\n",
    "\n",
    "print(\"Mean of X\\t\\t\\t\\t\",ru.run(avgx))\n",
    "print(\"Mean of Y\\t\\t\\t\\t\",ru.run(avgy))\n",
    "print(\"Varience of X\\t\\t\\t\\t\",vari)\n",
    "print('Covariance of x,y\\t\\t\\t',covar)\n",
    "print('Value of slope\\t\\t\\t\\t',slope)\n",
    "print('The value of c\\t\\t\\t\\t',const_c)\n",
    "\n"
   ]
  },
  {
   "cell_type": "code",
   "execution_count": 75,
   "metadata": {},
   "outputs": [
    {
     "name": "stdout",
     "output_type": "stream",
     "text": [
      "[1.3340943, 2.2492657, 3.1644371, 4.0796084, 4.9947801, 5.9099512]\n"
     ]
    }
   ],
   "source": [
    "import tensorflow as tf\n",
    "import numpy\n",
    "import matplotlib.pyplot as plt\n",
    "\n",
    "with tf.Session() as sess:\n",
    "    x1=sess.run(x)\n",
    "    y1=sess.run(y)\n",
    "train_X = numpy.asarray(x1)\n",
    "train_Y = numpy.asarray(y1)\n",
    "\n",
    "\n",
    "ranX=tf.constant([1.0, 2.0, 3.0, 4.0, 5.0, 6.0])\n",
    "with tf.Session() as sess:\n",
    "    ranX1=sess.run(ranX)\n",
    "ranX2=numpy.asarray(ranX1)\n",
    "\n",
    "ranY=[0]*6\n",
    "    \n",
    "with tf.Session() as sess:\n",
    "        for i in range(len(sess.run(ranX))):\n",
    "            output = sess.run(ranX[i])\n",
    "            a=tf.multiply(output,slope)\n",
    "            b=tf.add(a,const_c)\n",
    "            ranY[i]=sess.run(b)\n",
    "print(ranY)"
   ]
  },
  {
   "cell_type": "code",
   "execution_count": 76,
   "metadata": {},
   "outputs": [
    {
     "data": {
      "image/png": "[encoded data removed]",
      "text/plain": [
       "<matplotlib.figure.Figure at 0x7effb64216d8>"
      ]
     },
     "metadata": {},
     "output_type": "display_data"
    }
   ],
   "source": [
    "\n",
    "plt.plot(train_X, train_Y, 'ro', label='Original data')\n",
    "plt.plot(ranX2, ranY, label='fitted line')\n",
    "plt.legend()\n",
    "plt.show()"
   ]
  },
  {
   "cell_type": "code",
   "execution_count": 77,
   "metadata": {},
   "outputs": [
    {
     "data": {
      "image/png": "[encoded data removed]",
      "text/plain": [
       "<matplotlib.figure.Figure at 0x7effb4dc69b0>"
      ]
     },
     "metadata": {},
     "output_type": "display_data"
    },
    {
     "name": "stdout",
     "output_type": "stream",
     "text": [
      "0.189414\n"
     ]
    }
   ],
   "source": [
    "#PART 2\n",
    "#ROOT MEAN SQAURE ERROR\n",
    "import numpy as np\n",
    "import tensorflow as tf\n",
    "npx=np.asarray(ranX2)\n",
    "npy=np.asarray(ranY)\n",
    "\n",
    "GraphFit=np.polyfit(npx,npy,1)\n",
    "fitFunc=np.poly1d(GraphFit)\n",
    "\n",
    "plt.plot(npx,npy,'yo',npx,fitFunc(npx),'--k')\n",
    "\n",
    "plt.show()\n",
    "\n",
    "with tf.name_scope(\"Root_mean_square_error\"):\n",
    "    rmse=tf.sqrt(tf.reduce_mean(tf.squared_difference(ranX,ranY)))\n",
    "\n",
    "with tf.Session() as sess:\n",
    "    print(sess.run(rmse))\n",
    "\n"
   ]
  },
  {
   "cell_type": "code",
   "execution_count": null,
   "metadata": {
    "collapsed": true
   },
   "outputs": [],
   "source": []
  }
 ],
 "metadata": {
  "kernelspec": {
   "display_name": "Python 3",
   "language": "python",
   "name": "python3"
  },
  "language_info": {
   "codemirror_mode": {
    "name": "ipython",
    "version": 3
   },
   "file_extension": ".py",
   "mimetype": "text/x-python",
   "name": "python",
   "nbconvert_exporter": "python",
   "pygments_lexer": "ipython3",
   "version": "3.6.1"
  }
 },
 "nbformat": 4,
 "nbformat_minor": 2
}
