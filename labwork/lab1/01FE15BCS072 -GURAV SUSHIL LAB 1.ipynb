{
 "cells": [
  {
   "cell_type": "code",
   "execution_count": 1,
   "metadata": {},
   "outputs": [
    {
     "name": "stdout",
     "output_type": "stream",
     "text": [
      "4\n"
     ]
    }
   ],
   "source": [
    "###(a+b)2=a2+b2+2ab\n",
    "\n",
    "import tensorflow as tf\n",
    "var1=tf.constant(3)\n",
    "var2=tf.constant(1)\n",
    "with tf.name_scope(\"OperationGroup\"):\n",
    "    with tf.name_scope(\"Scope_A\"):\n",
    "        a = tf.multiply(var1,var1)\n",
    "        b = tf.multiply(var2,var2)\n",
    "with tf.name_scope(\"Scope_B\"):\n",
    "    c = tf.add(a, b, name=\"And_These_ones\")\n",
    "    d = tf.multiply(var1, var2, name=\"Multiply_these_numbers\")\n",
    "\n",
    "with tf.name_scope(\"Scope_C\"):\n",
    "    e = tf.multiply(2, d, name=\"B_add\")\n",
    "\n",
    "gra = tf.subtract(c,e)\n",
    "\n",
    "\n",
    "\n",
    "with tf.Session() as ru:\n",
    "    writer = tf.summary.FileWriter(\"/tmp/tboard/output_g1\", ru.graph)\n",
    "    print(ru.run(gra))\n",
    "    writer.close()"
   ]
  },
  {
   "cell_type": "code",
   "execution_count": 2,
   "metadata": {},
   "outputs": [
    {
     "name": "stdout",
     "output_type": "stream",
     "text": [
      "35\n"
     ]
    }
   ],
   "source": [
    "##(a3+b3)=(a+b)(a2−ab+b2)\n",
    "import tensorflow as tf\n",
    "var1=tf.constant(3)\n",
    "var2=tf.constant(2)\n",
    "with tf.name_scope(\"MyOperationGroup\"):\n",
    "    with tf.name_scope(\"Scope_A\"):\n",
    "        a = tf.multiply(var1,var1)\n",
    "        b = tf.multiply(var2,var2)  \n",
    "with tf.name_scope(\"Scope_B\"):\n",
    "    c = tf.add(a, b, name=\"And_These_ones\")\n",
    "    d = tf.multiply(var1, var2, name=\"Multiply_these_numbers\")\n",
    "\n",
    "with tf.name_scope(\"Scope_C\"):\n",
    "    e=tf.subtract(c,d, name=\"subtrating\")\n",
    "    \n",
    "    f=tf.add(var1,var2)\n",
    "    \n",
    "with tf.name_scope(\"Scope_D\"):\n",
    "    gra = tf.multiply(f,e)\n",
    "\n",
    "\n",
    "with tf.Session() as sess:\n",
    "    writer = tf.summary.FileWriter(\"/tmp/tboard/output_g2\", sess.graph)\n",
    "    print(sess.run(gra))\n",
    "    writer.close()"
   ]
  },
  {
   "cell_type": "code",
   "execution_count": null,
   "metadata": {
    "collapsed": true
   },
   "outputs": [],
   "source": []
  }
 ],
 "metadata": {
  "kernelspec": {
   "display_name": "Python 3",
   "language": "python",
   "name": "python3"
  },
  "language_info": {
   "codemirror_mode": {
    "name": "ipython",
    "version": 3
   },
   "file_extension": ".py",
   "mimetype": "text/x-python",
   "name": "python",
   "nbconvert_exporter": "python",
   "pygments_lexer": "ipython3",
   "version": "3.6.1"
  }
 },
 "nbformat": 4,
 "nbformat_minor": 2
}
